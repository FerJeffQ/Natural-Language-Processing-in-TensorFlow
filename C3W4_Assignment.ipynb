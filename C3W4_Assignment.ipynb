{
  "cells": [
    {
      "cell_type": "markdown",
      "metadata": {
        "id": "bFWbEb6uGbN-"
      },
      "source": [
        "# Week 4: Predicting the next word\n",
        "\n",
        "Welcome to this assignment! During this week you saw how to create a model that will predict the next word in a text sequence, now you will implement such model and train it using a corpus of Shakespeare's sonnets, while also creating some helper functions to pre-process the data.\n",
        "\n",
        "\n",
        "Let's get started!"
      ]
    },
    {
      "cell_type": "code",
      "execution_count": 28,
      "metadata": {
        "id": "BOwsuGQQY9OL"
      },
      "outputs": [],
      "source": [
        "import numpy as np \n",
        "import matplotlib.pyplot as plt\n",
        "from tensorflow.keras.models import Sequential\n",
        "from tensorflow.keras.utils import to_categorical \n",
        "from tensorflow.keras.preprocessing.text import Tokenizer\n",
        "from tensorflow.keras.preprocessing.sequence import pad_sequences\n",
        "from tensorflow.keras.layers import Embedding, LSTM, Dense, Bidirectional\n",
        "\n"
      ]
    },
    {
      "cell_type": "markdown",
      "metadata": {
        "id": "BTxqlHqKHzhr"
      },
      "source": [
        "For this assignment you will be using the [Shakespeare Sonnets Dataset](https://www.opensourceshakespeare.org/views/sonnets/sonnet_view.php?range=viewrange&sonnetrange1=1&sonnetrange2=154), which contains more than 2000 lines of text extracted from Shakespeare's sonnets."
      ]
    },
    {
      "cell_type": "code",
      "execution_count": 3,
      "metadata": {
        "colab": {
          "base_uri": "https://localhost:8080/"
        },
        "id": "WZ4qOUzujMP6",
        "outputId": "e27c0804-a30e-4fd1-e161-53e3bac04df0"
      },
      "outputs": [
        {
          "name": "stderr",
          "output_type": "stream",
          "text": [
            "\"gdown\" no se reconoce como un comando interno o externo,\n",
            "programa o archivo por lotes ejecutable.\n"
          ]
        }
      ],
      "source": [
        "# sonnets.txt\n",
        "!gdown --id 108jAePKK4R3BVYBbYJZ32JWUwxeMg20K"
      ]
    },
    {
      "cell_type": "code",
      "execution_count": 4,
      "metadata": {
        "colab": {
          "base_uri": "https://localhost:8080/"
        },
        "id": "Pfd-nYKij5yY",
        "outputId": "b9ccc900-0a01-4f9f-8b12-07722b2dd9bc"
      },
      "outputs": [
        {
          "name": "stdout",
          "output_type": "stream",
          "text": [
            "There are 2159 lines of sonnets\n",
            "\n",
            "The first 5 lines look like this:\n",
            "\n",
            "from fairest creatures we desire increase,\n",
            "that thereby beauty's rose might never die,\n",
            "but as the riper should by time decease,\n",
            "his tender heir might bear his memory:\n",
            "but thou, contracted to thine own bright eyes,\n"
          ]
        }
      ],
      "source": [
        "# Define path for file with sonnets\n",
        "SONNETS_FILE = './sonnets.txt'\n",
        "\n",
        "# Read the data\n",
        "with open('./sonnets.txt') as f:\n",
        "    data = f.read()\n",
        "\n",
        "# Convert to lower case and save as a list\n",
        "corpus = data.lower().split(\"\\n\")\n",
        "\n",
        "print(f\"There are {len(corpus)} lines of sonnets\\n\")\n",
        "print(f\"The first 5 lines look like this:\\n\")\n",
        "for i in range(5):\n",
        "  print(corpus[i])"
      ]
    },
    {
      "cell_type": "markdown",
      "metadata": {
        "id": "imB15zrSNhA1"
      },
      "source": [
        "## Tokenizing the text\n",
        "\n",
        "Now fit the Tokenizer to the corpus and save the total number of words."
      ]
    },
    {
      "cell_type": "code",
      "execution_count": 5,
      "metadata": {
        "id": "AAhM_qAZk0o5"
      },
      "outputs": [],
      "source": [
        "tokenizer = Tokenizer()\n",
        "tokenizer.fit_on_texts(corpus)\n",
        "total_words = len(tokenizer.word_index) + 1"
      ]
    },
    {
      "cell_type": "markdown",
      "metadata": {
        "id": "77-0sA46OETa"
      },
      "source": [
        "When converting the text into sequences you can use the `texts_to_sequences` method as you have done throughout this course.\n",
        "\n",
        "In the next graded function you will need to process this corpus one line at a time. Given this, it is important to keep in mind that the way you are feeding the data unto this method affects the result. Check the following example to make this clearer.\n",
        "\n",
        "The first example of the corpus is a string and looks like this:"
      ]
    },
    {
      "cell_type": "code",
      "execution_count": 6,
      "metadata": {
        "colab": {
          "base_uri": "https://localhost:8080/",
          "height": 35
        },
        "id": "tqhPxdeXlfjh",
        "outputId": "dd2349e0-7603-46c4-8d15-36eda377867a"
      },
      "outputs": [
        {
          "data": {
            "text/plain": [
              "'from fairest creatures we desire increase,'"
            ]
          },
          "execution_count": 6,
          "metadata": {},
          "output_type": "execute_result"
        }
      ],
      "source": [
        "corpus[0]"
      ]
    },
    {
      "cell_type": "markdown",
      "metadata": {
        "id": "XFMP4z11O3os"
      },
      "source": [
        "If you pass this text directly into the `texts_to_sequences` method you will get an unexpected result:"
      ]
    },
    {
      "cell_type": "code",
      "execution_count": 7,
      "metadata": {
        "colab": {
          "base_uri": "https://localhost:8080/"
        },
        "id": "EMSEhmbzNZCE",
        "outputId": "0d61cdbc-013d-40fc-e40a-4de2353200c3"
      },
      "outputs": [
        {
          "data": {
            "text/plain": [
              "[[],\n",
              " [],\n",
              " [58],\n",
              " [],\n",
              " [],\n",
              " [],\n",
              " [17],\n",
              " [6],\n",
              " [],\n",
              " [],\n",
              " [],\n",
              " [],\n",
              " [],\n",
              " [],\n",
              " [],\n",
              " [],\n",
              " [17],\n",
              " [],\n",
              " [],\n",
              " [],\n",
              " [],\n",
              " [],\n",
              " [],\n",
              " [],\n",
              " [],\n",
              " [],\n",
              " [],\n",
              " [],\n",
              " [],\n",
              " [6],\n",
              " [],\n",
              " [],\n",
              " [],\n",
              " [6],\n",
              " [],\n",
              " [],\n",
              " [],\n",
              " [],\n",
              " [17],\n",
              " [],\n",
              " [],\n",
              " []]"
            ]
          },
          "execution_count": 7,
          "metadata": {},
          "output_type": "execute_result"
        }
      ],
      "source": [
        "tokenizer.texts_to_sequences(corpus[0])"
      ]
    },
    {
      "cell_type": "markdown",
      "metadata": {
        "id": "pPZmZtpEPEeI"
      },
      "source": [
        "This happened because `texts_to_sequences` expects a list and you are providing a string. However a string is still and `iterable` in Python so you will get the word index of every character in the string.\n",
        "\n",
        "Instead you need to place the example whithin a list before passing it to the method:"
      ]
    },
    {
      "cell_type": "code",
      "execution_count": 8,
      "metadata": {
        "colab": {
          "base_uri": "https://localhost:8080/"
        },
        "id": "Qmgo-vXhk4nd",
        "outputId": "d5094f4a-11ac-4d57-89a3-454332378270"
      },
      "outputs": [
        {
          "data": {
            "text/plain": [
              "[[34, 417, 877, 166, 213, 517]]"
            ]
          },
          "execution_count": 8,
          "metadata": {},
          "output_type": "execute_result"
        }
      ],
      "source": [
        "tokenizer.texts_to_sequences([corpus[0]])"
      ]
    },
    {
      "cell_type": "markdown",
      "metadata": {
        "id": "0DU7wK-eQ5dc"
      },
      "source": [
        "Notice that you received the sequence wrapped inside a list so in order to get only the desired sequence you need to explicitly get the first item in the list like this:"
      ]
    },
    {
      "cell_type": "code",
      "execution_count": 9,
      "metadata": {
        "colab": {
          "base_uri": "https://localhost:8080/"
        },
        "id": "kpTy8WmIQ57P",
        "outputId": "659f1771-cd12-489d-b3a6-c7dd2e746419"
      },
      "outputs": [
        {
          "data": {
            "text/plain": [
              "[34, 417, 877, 166, 213, 517]"
            ]
          },
          "execution_count": 9,
          "metadata": {},
          "output_type": "execute_result"
        }
      ],
      "source": [
        "tokenizer.texts_to_sequences([corpus[0]])[0]"
      ]
    },
    {
      "cell_type": "markdown",
      "metadata": {
        "id": "-oqy9KjXRJ9A"
      },
      "source": [
        "## Generating n_grams\n",
        "\n",
        "Now complete the `n_gram_seqs` function below. This function receives the fitted tokenizer and the corpus (which is a list of strings) and should return a list containing the `n_gram` sequences for each line in the corpus:"
      ]
    },
    {
      "cell_type": "code",
      "execution_count": 10,
      "metadata": {
        "id": "iy4baJMDl6kj"
      },
      "outputs": [],
      "source": [
        "# GRADED FUNCTION: n_gram_seqs\n",
        "def n_gram_seqs(corpus, tokenizer):\n",
        "\tinput_sequences = []\n",
        "\n",
        "\t### START CODE HERE\n",
        "\tfor line in corpus:\n",
        "\t\ttoken_list = tokenizer.texts_to_sequences([line])[0]\n",
        "\t\tfor i in range(1, len(token_list)):\n",
        "\t\t\tn_gram_sequence = token_list[:i+1]\n",
        "\t\t\tinput_sequences.append(n_gram_sequence)\t\n",
        "\t### END CODE HERE\n",
        "\t \n",
        "\treturn input_sequences"
      ]
    },
    {
      "cell_type": "code",
      "execution_count": 11,
      "metadata": {
        "colab": {
          "base_uri": "https://localhost:8080/"
        },
        "id": "DlKqW2pfM7G3",
        "outputId": "6a1137b4-f20c-4587-c14f-6b4f4a7693ca"
      },
      "outputs": [
        {
          "name": "stdout",
          "output_type": "stream",
          "text": [
            "n_gram sequences for first example look like this:\n",
            "\n"
          ]
        },
        {
          "data": {
            "text/plain": [
              "[[34, 417],\n",
              " [34, 417, 877],\n",
              " [34, 417, 877, 166],\n",
              " [34, 417, 877, 166, 213],\n",
              " [34, 417, 877, 166, 213, 517]]"
            ]
          },
          "execution_count": 11,
          "metadata": {},
          "output_type": "execute_result"
        }
      ],
      "source": [
        "# Test your function with one example\n",
        "first_example_sequence = n_gram_seqs([corpus[0]], tokenizer)\n",
        "\n",
        "print(\"n_gram sequences for first example look like this:\\n\")\n",
        "first_example_sequence"
      ]
    },
    {
      "cell_type": "markdown",
      "metadata": {
        "id": "0HL8Ug6UU0Jt"
      },
      "source": [
        "**Expected Output:**\n",
        "\n",
        "```\n",
        "n_gram sequences for first example look like this:\n",
        "\n",
        "[[34, 417],\n",
        " [34, 417, 877],\n",
        " [34, 417, 877, 166],\n",
        " [34, 417, 877, 166, 213],\n",
        " [34, 417, 877, 166, 213, 517]]\n",
        "```"
      ]
    },
    {
      "cell_type": "code",
      "execution_count": 12,
      "metadata": {
        "colab": {
          "base_uri": "https://localhost:8080/"
        },
        "id": "wtPpCcBjNc4c",
        "outputId": "01d14bcb-321a-48c5-e3a1-df2d433a98ce"
      },
      "outputs": [
        {
          "name": "stdout",
          "output_type": "stream",
          "text": [
            "n_gram sequences for next 3 examples look like this:\n",
            "\n"
          ]
        },
        {
          "data": {
            "text/plain": [
              "[[8, 878],\n",
              " [8, 878, 134],\n",
              " [8, 878, 134, 351],\n",
              " [8, 878, 134, 351, 102],\n",
              " [8, 878, 134, 351, 102, 156],\n",
              " [8, 878, 134, 351, 102, 156, 199],\n",
              " [16, 22],\n",
              " [16, 22, 2],\n",
              " [16, 22, 2, 879],\n",
              " [16, 22, 2, 879, 61],\n",
              " [16, 22, 2, 879, 61, 30],\n",
              " [16, 22, 2, 879, 61, 30, 48],\n",
              " [16, 22, 2, 879, 61, 30, 48, 634],\n",
              " [25, 311],\n",
              " [25, 311, 635],\n",
              " [25, 311, 635, 102],\n",
              " [25, 311, 635, 102, 200],\n",
              " [25, 311, 635, 102, 200, 25],\n",
              " [25, 311, 635, 102, 200, 25, 278]]"
            ]
          },
          "execution_count": 12,
          "metadata": {},
          "output_type": "execute_result"
        }
      ],
      "source": [
        "# Test your function with a bigger corpus\n",
        "next_3_examples_sequence = n_gram_seqs(corpus[1:4], tokenizer)\n",
        "\n",
        "print(\"n_gram sequences for next 3 examples look like this:\\n\")\n",
        "next_3_examples_sequence"
      ]
    },
    {
      "cell_type": "markdown",
      "metadata": {
        "id": "EIzecMczU9UB"
      },
      "source": [
        "**Expected Output:**\n",
        "\n",
        "```\n",
        "n_gram sequences for next 3 examples look like this:\n",
        "\n",
        "[[8, 878],\n",
        " [8, 878, 134],\n",
        " [8, 878, 134, 351],\n",
        " [8, 878, 134, 351, 102],\n",
        " [8, 878, 134, 351, 102, 156],\n",
        " [8, 878, 134, 351, 102, 156, 199],\n",
        " [16, 22],\n",
        " [16, 22, 2],\n",
        " [16, 22, 2, 879],\n",
        " [16, 22, 2, 879, 61],\n",
        " [16, 22, 2, 879, 61, 30],\n",
        " [16, 22, 2, 879, 61, 30, 48],\n",
        " [16, 22, 2, 879, 61, 30, 48, 634],\n",
        " [25, 311],\n",
        " [25, 311, 635],\n",
        " [25, 311, 635, 102],\n",
        " [25, 311, 635, 102, 200],\n",
        " [25, 311, 635, 102, 200, 25],\n",
        " [25, 311, 635, 102, 200, 25, 278]]\n",
        "```"
      ]
    },
    {
      "cell_type": "markdown",
      "metadata": {
        "id": "dx3V_RjFWQSu"
      },
      "source": [
        "Apply the `n_gram_seqs` transformation to the whole corpus and save the maximum sequence length to use it later:"
      ]
    },
    {
      "cell_type": "code",
      "execution_count": 13,
      "metadata": {
        "colab": {
          "base_uri": "https://localhost:8080/"
        },
        "id": "laMwiRUpmuSd",
        "outputId": "fda1db8f-bcc3-45ff-bfa4-b3a87c854d1c"
      },
      "outputs": [
        {
          "name": "stdout",
          "output_type": "stream",
          "text": [
            "n_grams of input_sequences have length: 15462\n",
            "maximum length of sequences is: 11\n"
          ]
        }
      ],
      "source": [
        "# Apply the n_gram_seqs transformation to the whole corpus\n",
        "input_sequences = n_gram_seqs(corpus, tokenizer)\n",
        "\n",
        "# Save max length \n",
        "max_sequence_len = max([len(x) for x in input_sequences])\n",
        "\n",
        "print(f\"n_grams of input_sequences have length: {len(input_sequences)}\")\n",
        "print(f\"maximum length of sequences is: {max_sequence_len}\")"
      ]
    },
    {
      "cell_type": "markdown",
      "metadata": {
        "id": "2OciMdmEdE9L"
      },
      "source": [
        "**Expected Output:**\n",
        "\n",
        "```\n",
        "n_grams of input_sequences have length: 15462\n",
        "maximum length of sequences is: 11\n",
        "```"
      ]
    },
    {
      "cell_type": "markdown",
      "metadata": {
        "id": "zHY7HroqWq12"
      },
      "source": [
        "## Add padding to the sequences\n",
        "\n",
        "Now code the `pad_seqs` function which will pad any given sequences to the desired maximum length. Notice that this function receives a list of sequences and should return a numpy array with the padded sequences: "
      ]
    },
    {
      "cell_type": "code",
      "execution_count": 14,
      "metadata": {
        "cellView": "code",
        "id": "WW1-qAZaWOhC"
      },
      "outputs": [],
      "source": [
        "# GRADED FUNCTION: pad_seqs\n",
        "def pad_seqs(input_sequences, maxlen):\n",
        "    ### START CODE HERE\n",
        "    padded_sequences = np.array(pad_sequences(input_sequences, maxlen=maxlen, padding='pre'))\n",
        "    return padded_sequences\n",
        "    ### END CODE HERE"
      ]
    },
    {
      "cell_type": "code",
      "execution_count": 15,
      "metadata": {
        "colab": {
          "base_uri": "https://localhost:8080/"
        },
        "id": "IqVQ0pb3YHLr",
        "outputId": "27bf0370-60a4-43dc-a70a-24ed2724a814"
      },
      "outputs": [
        {
          "data": {
            "text/plain": [
              "array([[  0,   0,   0,  34, 417],\n",
              "       [  0,   0,  34, 417, 877],\n",
              "       [  0,  34, 417, 877, 166],\n",
              "       [ 34, 417, 877, 166, 213],\n",
              "       [417, 877, 166, 213, 517]])"
            ]
          },
          "execution_count": 15,
          "metadata": {},
          "output_type": "execute_result"
        }
      ],
      "source": [
        "# Test your function with the n_grams_seq of the first example\n",
        "first_padded_seq = pad_seqs(first_example_sequence, len(first_example_sequence))\n",
        "first_padded_seq"
      ]
    },
    {
      "cell_type": "markdown",
      "metadata": {
        "id": "Re_avDznXRnU"
      },
      "source": [
        "**Expected Output:**\n",
        "\n",
        "```\n",
        "array([[  0,   0,   0,  34, 417],\n",
        "       [  0,   0,  34, 417, 877],\n",
        "       [  0,  34, 417, 877, 166],\n",
        "       [ 34, 417, 877, 166, 213],\n",
        "       [417, 877, 166, 213, 517]], dtype=int32)\n",
        "```"
      ]
    },
    {
      "cell_type": "code",
      "execution_count": 16,
      "metadata": {
        "colab": {
          "base_uri": "https://localhost:8080/"
        },
        "id": "j56_UCOBYzZt",
        "outputId": "7b0b55ec-1e29-4868-86e7-84c9772ea3d2"
      },
      "outputs": [
        {
          "data": {
            "text/plain": [
              "array([[  0,   0,   0,   0,   0,   0,   8, 878],\n",
              "       [  0,   0,   0,   0,   0,   8, 878, 134],\n",
              "       [  0,   0,   0,   0,   8, 878, 134, 351],\n",
              "       [  0,   0,   0,   8, 878, 134, 351, 102],\n",
              "       [  0,   0,   8, 878, 134, 351, 102, 156],\n",
              "       [  0,   8, 878, 134, 351, 102, 156, 199],\n",
              "       [  0,   0,   0,   0,   0,   0,  16,  22],\n",
              "       [  0,   0,   0,   0,   0,  16,  22,   2],\n",
              "       [  0,   0,   0,   0,  16,  22,   2, 879],\n",
              "       [  0,   0,   0,  16,  22,   2, 879,  61],\n",
              "       [  0,   0,  16,  22,   2, 879,  61,  30],\n",
              "       [  0,  16,  22,   2, 879,  61,  30,  48],\n",
              "       [ 16,  22,   2, 879,  61,  30,  48, 634],\n",
              "       [  0,   0,   0,   0,   0,   0,  25, 311],\n",
              "       [  0,   0,   0,   0,   0,  25, 311, 635],\n",
              "       [  0,   0,   0,   0,  25, 311, 635, 102],\n",
              "       [  0,   0,   0,  25, 311, 635, 102, 200],\n",
              "       [  0,   0,  25, 311, 635, 102, 200,  25],\n",
              "       [  0,  25, 311, 635, 102, 200,  25, 278]])"
            ]
          },
          "execution_count": 16,
          "metadata": {},
          "output_type": "execute_result"
        }
      ],
      "source": [
        "# Test your function with the n_grams_seq of the next 3 examples\n",
        "next_3_padded_seq = pad_seqs(next_3_examples_sequence, max([len(s) for s in next_3_examples_sequence]))\n",
        "next_3_padded_seq"
      ]
    },
    {
      "cell_type": "markdown",
      "metadata": {
        "id": "3rmcDluOXcIU"
      },
      "source": [
        "**Expected Output:**\n",
        "\n",
        "```\n",
        "array([[  0,   0,   0,   0,   0,   0,   8, 878],\n",
        "       [  0,   0,   0,   0,   0,   8, 878, 134],\n",
        "       [  0,   0,   0,   0,   8, 878, 134, 351],\n",
        "       [  0,   0,   0,   8, 878, 134, 351, 102],\n",
        "       [  0,   0,   8, 878, 134, 351, 102, 156],\n",
        "       [  0,   8, 878, 134, 351, 102, 156, 199],\n",
        "       [  0,   0,   0,   0,   0,   0,  16,  22],\n",
        "       [  0,   0,   0,   0,   0,  16,  22,   2],\n",
        "       [  0,   0,   0,   0,  16,  22,   2, 879],\n",
        "       [  0,   0,   0,  16,  22,   2, 879,  61],\n",
        "       [  0,   0,  16,  22,   2, 879,  61,  30],\n",
        "       [  0,  16,  22,   2, 879,  61,  30,  48],\n",
        "       [ 16,  22,   2, 879,  61,  30,  48, 634],\n",
        "       [  0,   0,   0,   0,   0,   0,  25, 311],\n",
        "       [  0,   0,   0,   0,   0,  25, 311, 635],\n",
        "       [  0,   0,   0,   0,  25, 311, 635, 102],\n",
        "       [  0,   0,   0,  25, 311, 635, 102, 200],\n",
        "       [  0,   0,  25, 311, 635, 102, 200,  25],\n",
        "       [  0,  25, 311, 635, 102, 200,  25, 278]], dtype=int32)\n",
        "```"
      ]
    },
    {
      "cell_type": "code",
      "execution_count": 17,
      "metadata": {
        "colab": {
          "base_uri": "https://localhost:8080/"
        },
        "id": "rgK-Q_micEYA",
        "outputId": "148faef4-8bb6-40c3-bbae-cb9c6cd83741"
      },
      "outputs": [
        {
          "name": "stdout",
          "output_type": "stream",
          "text": [
            "padded corpus has shape: (15462, 11)\n"
          ]
        }
      ],
      "source": [
        "# Pad the whole corpus\n",
        "input_sequences = pad_seqs(input_sequences, max_sequence_len)\n",
        "\n",
        "print(f\"padded corpus has shape: {input_sequences.shape}\")"
      ]
    },
    {
      "cell_type": "markdown",
      "metadata": {
        "id": "59RD1YYNc7CW"
      },
      "source": [
        "**Expected Output:**\n",
        "\n",
        "```\n",
        "padded corpus has shape: (15462, 11)\n",
        "```"
      ]
    },
    {
      "cell_type": "markdown",
      "metadata": {
        "id": "ZbOidyPrXxf7"
      },
      "source": [
        "## Split the data into features and labels\n",
        "\n",
        "Before feeding the data into the neural network you should split it into features and labels. In this case the features will be the padded n_gram sequences with the last word removed from them and the labels will be the removed word.\n",
        "\n",
        "Complete the `features_and_labels` function below. This function expects the padded n_gram sequences as input and should return a tuple containing the features and the one hot encoded labels.\n",
        "\n",
        "Notice that the function also receives the total of words in the corpus, this parameter will be very important when one hot enconding the labels since every word in the corpus will be a label at least once. If you need a refresh of how the `to_categorical` function works take a look at the [docs](https://www.tensorflow.org/api_docs/python/tf/keras/utils/to_categorical)"
      ]
    },
    {
      "cell_type": "code",
      "execution_count": 18,
      "metadata": {
        "cellView": "code",
        "id": "9WGGbYdnZdmJ"
      },
      "outputs": [],
      "source": [
        "# GRADED FUNCTION: features_and_labels\n",
        "def features_and_labels(input_sequences, total_words):\n",
        "    ### START CODE HERE\n",
        "    features = input_sequences[:,:-1]\n",
        "    labels = input_sequences[:,-1]\n",
        "    one_hot_labels = to_categorical(labels, num_classes=total_words)\n",
        "    ### END CODE HERE\n",
        "\n",
        "    return features, one_hot_labels"
      ]
    },
    {
      "cell_type": "code",
      "execution_count": 19,
      "metadata": {
        "colab": {
          "base_uri": "https://localhost:8080/"
        },
        "id": "23DolaBRaIAZ",
        "outputId": "f8b47aaf-1773-4ed7-a42b-2891510ae2db"
      },
      "outputs": [
        {
          "name": "stdout",
          "output_type": "stream",
          "text": [
            "labels have shape: (5, 3211)\n",
            "\n",
            "features look like this:\n",
            "\n"
          ]
        },
        {
          "data": {
            "text/plain": [
              "array([[  0,   0,   0,  34],\n",
              "       [  0,   0,  34, 417],\n",
              "       [  0,  34, 417, 877],\n",
              "       [ 34, 417, 877, 166],\n",
              "       [417, 877, 166, 213]])"
            ]
          },
          "execution_count": 19,
          "metadata": {},
          "output_type": "execute_result"
        }
      ],
      "source": [
        "# Test your function with the padded n_grams_seq of the first example\n",
        "first_features, first_labels = features_and_labels(first_padded_seq, total_words)\n",
        "\n",
        "print(f\"labels have shape: {first_labels.shape}\")\n",
        "print(\"\\nfeatures look like this:\\n\")\n",
        "first_features"
      ]
    },
    {
      "cell_type": "markdown",
      "metadata": {
        "id": "7t4yAx2UaQ43"
      },
      "source": [
        "**Expected Output:**\n",
        "\n",
        "```\n",
        "labels have shape: (5, 3211)\n",
        "\n",
        "features look like this:\n",
        "\n",
        "array([[  0,   0,   0,  34],\n",
        "       [  0,   0,  34, 417],\n",
        "       [  0,  34, 417, 877],\n",
        "       [ 34, 417, 877, 166],\n",
        "       [417, 877, 166, 213]], dtype=int32)\n",
        "```"
      ]
    },
    {
      "cell_type": "code",
      "execution_count": 20,
      "metadata": {
        "colab": {
          "base_uri": "https://localhost:8080/"
        },
        "id": "GRTuLEt3bRKa",
        "outputId": "858953cb-7c66-47f8-f6d6-32379dbff8fb"
      },
      "outputs": [
        {
          "name": "stdout",
          "output_type": "stream",
          "text": [
            "features have shape: (15462, 10)\n",
            "labels have shape: (15462, 3211)\n"
          ]
        }
      ],
      "source": [
        "# Split the whole corpus\n",
        "features, labels = features_and_labels(input_sequences, total_words)\n",
        "\n",
        "print(f\"features have shape: {features.shape}\")\n",
        "print(f\"labels have shape: {labels.shape}\")"
      ]
    },
    {
      "cell_type": "markdown",
      "metadata": {
        "id": "xXSMK_HpdLns"
      },
      "source": [
        "**Expected Output:**\n",
        "\n",
        "```\n",
        "features have shape: (15462, 10)\n",
        "labels have shape: (15462, 3211)\n",
        "```"
      ]
    },
    {
      "cell_type": "markdown",
      "metadata": {
        "id": "ltxaOCE_aU6J"
      },
      "source": [
        "## Create the model\n",
        "\n",
        "Now you should define a model architecture capable of achieving an accuracy of at least 80%.\n",
        "\n",
        "Some hints to help you in this task:\n",
        "\n",
        "- An appropriate `output_dim` for the first layer (Embedding) is 100, this is already provided for you.\n",
        "- A Bidirectional LSTM is helpful for this particular problem.\n",
        "- The last layer should have the same number of units as the total number of words in the corpus and a softmax activation function.\n",
        "- This problem can be solved with only two layers (excluding the Embedding) so try out small architectures first."
      ]
    },
    {
      "cell_type": "code",
      "execution_count": 47,
      "metadata": {
        "cellView": "code",
        "id": "XrE6kpJFfvRY"
      },
      "outputs": [],
      "source": [
        "# GRADED FUNCTION: create_model\n",
        "\n",
        "\n",
        "def create_model(total_words, max_sequence_len):\n",
        "    \n",
        "    model = Sequential()\n",
        "    ### START CODE HERE\n",
        "    model.add(Embedding(total_words, 100, input_length=max_sequence_len - 1))\n",
        "    model.add(Bidirectional(LSTM(150,return_sequences = True)))\n",
        "    model.add(LSTM(100))\n",
        "    model.add(Dense(total_words, activation='softmax'))\n",
        "\n",
        "    # Compile the model\n",
        "    model.compile(loss='categorical_crossentropy',\n",
        "                  optimizer='adam',\n",
        "                  metrics=['accuracy'])\n",
        "    \n",
        "    ### END CODE HERE\n",
        "\n",
        "    return model"
      ]
    },
    {
      "cell_type": "code",
      "execution_count": 48,
      "metadata": {
        "colab": {
          "base_uri": "https://localhost:8080/"
        },
        "id": "0IpX_Gu_gISk",
        "outputId": "be25a6c0-08eb-4ebf-e5d0-c0d074472325"
      },
      "outputs": [
        {
          "name": "stdout",
          "output_type": "stream",
          "text": [
            "Epoch 1/100\n",
            "484/484 - 8s - loss: 6.8871 - accuracy: 0.0211 - 8s/epoch - 17ms/step\n",
            "Epoch 2/100\n",
            "484/484 - 5s - loss: 6.4667 - accuracy: 0.0277 - 5s/epoch - 9ms/step\n",
            "Epoch 3/100\n",
            "484/484 - 5s - loss: 6.3229 - accuracy: 0.0349 - 5s/epoch - 9ms/step\n",
            "Epoch 4/100\n",
            "484/484 - 4s - loss: 6.1998 - accuracy: 0.0389 - 4s/epoch - 9ms/step\n",
            "Epoch 5/100\n",
            "484/484 - 4s - loss: 6.0828 - accuracy: 0.0429 - 4s/epoch - 9ms/step\n",
            "Epoch 6/100\n",
            "484/484 - 4s - loss: 5.9668 - accuracy: 0.0446 - 4s/epoch - 9ms/step\n",
            "Epoch 7/100\n",
            "484/484 - 5s - loss: 5.8525 - accuracy: 0.0505 - 5s/epoch - 9ms/step\n",
            "Epoch 8/100\n",
            "484/484 - 5s - loss: 5.7392 - accuracy: 0.0548 - 5s/epoch - 9ms/step\n",
            "Epoch 9/100\n",
            "484/484 - 4s - loss: 5.6111 - accuracy: 0.0592 - 4s/epoch - 9ms/step\n",
            "Epoch 10/100\n",
            "484/484 - 5s - loss: 5.4930 - accuracy: 0.0666 - 5s/epoch - 9ms/step\n",
            "Epoch 11/100\n",
            "484/484 - 5s - loss: 5.3696 - accuracy: 0.0716 - 5s/epoch - 9ms/step\n",
            "Epoch 12/100\n",
            "484/484 - 4s - loss: 5.2437 - accuracy: 0.0789 - 4s/epoch - 9ms/step\n",
            "Epoch 13/100\n",
            "484/484 - 5s - loss: 5.1243 - accuracy: 0.0863 - 5s/epoch - 9ms/step\n",
            "Epoch 14/100\n",
            "484/484 - 5s - loss: 5.0047 - accuracy: 0.0919 - 5s/epoch - 9ms/step\n",
            "Epoch 15/100\n",
            "484/484 - 4s - loss: 4.8919 - accuracy: 0.0971 - 4s/epoch - 9ms/step\n",
            "Epoch 16/100\n",
            "484/484 - 4s - loss: 4.7665 - accuracy: 0.1074 - 4s/epoch - 9ms/step\n",
            "Epoch 17/100\n",
            "484/484 - 4s - loss: 4.6503 - accuracy: 0.1137 - 4s/epoch - 9ms/step\n",
            "Epoch 18/100\n",
            "484/484 - 4s - loss: 4.5371 - accuracy: 0.1229 - 4s/epoch - 9ms/step\n",
            "Epoch 19/100\n",
            "484/484 - 5s - loss: 4.4150 - accuracy: 0.1347 - 5s/epoch - 9ms/step\n",
            "Epoch 20/100\n",
            "484/484 - 5s - loss: 4.3046 - accuracy: 0.1471 - 5s/epoch - 10ms/step\n",
            "Epoch 21/100\n",
            "484/484 - 5s - loss: 4.1981 - accuracy: 0.1572 - 5s/epoch - 10ms/step\n",
            "Epoch 22/100\n",
            "484/484 - 5s - loss: 4.0836 - accuracy: 0.1729 - 5s/epoch - 10ms/step\n",
            "Epoch 23/100\n",
            "484/484 - 5s - loss: 3.9697 - accuracy: 0.1891 - 5s/epoch - 10ms/step\n",
            "Epoch 24/100\n",
            "484/484 - 5s - loss: 3.8683 - accuracy: 0.2048 - 5s/epoch - 10ms/step\n",
            "Epoch 25/100\n",
            "484/484 - 5s - loss: 3.7635 - accuracy: 0.2229 - 5s/epoch - 10ms/step\n",
            "Epoch 26/100\n",
            "484/484 - 5s - loss: 3.6672 - accuracy: 0.2408 - 5s/epoch - 10ms/step\n",
            "Epoch 27/100\n",
            "484/484 - 5s - loss: 3.5708 - accuracy: 0.2553 - 5s/epoch - 10ms/step\n",
            "Epoch 28/100\n",
            "484/484 - 5s - loss: 3.4747 - accuracy: 0.2718 - 5s/epoch - 10ms/step\n",
            "Epoch 29/100\n",
            "484/484 - 5s - loss: 3.3921 - accuracy: 0.2890 - 5s/epoch - 10ms/step\n",
            "Epoch 30/100\n",
            "484/484 - 5s - loss: 3.3103 - accuracy: 0.3091 - 5s/epoch - 10ms/step\n",
            "Epoch 31/100\n",
            "484/484 - 5s - loss: 3.2304 - accuracy: 0.3137 - 5s/epoch - 10ms/step\n",
            "Epoch 32/100\n",
            "484/484 - 5s - loss: 3.1482 - accuracy: 0.3336 - 5s/epoch - 10ms/step\n",
            "Epoch 33/100\n",
            "484/484 - 5s - loss: 3.0723 - accuracy: 0.3490 - 5s/epoch - 10ms/step\n",
            "Epoch 34/100\n",
            "484/484 - 5s - loss: 2.9952 - accuracy: 0.3624 - 5s/epoch - 10ms/step\n",
            "Epoch 35/100\n",
            "484/484 - 5s - loss: 2.9227 - accuracy: 0.3747 - 5s/epoch - 10ms/step\n",
            "Epoch 36/100\n",
            "484/484 - 5s - loss: 2.8579 - accuracy: 0.3873 - 5s/epoch - 10ms/step\n",
            "Epoch 37/100\n",
            "484/484 - 5s - loss: 2.7914 - accuracy: 0.4018 - 5s/epoch - 10ms/step\n",
            "Epoch 38/100\n",
            "484/484 - 5s - loss: 2.7274 - accuracy: 0.4157 - 5s/epoch - 10ms/step\n",
            "Epoch 39/100\n",
            "484/484 - 5s - loss: 2.6692 - accuracy: 0.4221 - 5s/epoch - 10ms/step\n",
            "Epoch 40/100\n",
            "484/484 - 5s - loss: 2.6025 - accuracy: 0.4373 - 5s/epoch - 10ms/step\n",
            "Epoch 41/100\n",
            "484/484 - 5s - loss: 2.5483 - accuracy: 0.4493 - 5s/epoch - 10ms/step\n",
            "Epoch 42/100\n",
            "484/484 - 5s - loss: 2.4955 - accuracy: 0.4598 - 5s/epoch - 10ms/step\n",
            "Epoch 43/100\n",
            "484/484 - 5s - loss: 2.4307 - accuracy: 0.4730 - 5s/epoch - 10ms/step\n",
            "Epoch 44/100\n",
            "484/484 - 5s - loss: 2.3699 - accuracy: 0.4871 - 5s/epoch - 10ms/step\n",
            "Epoch 45/100\n",
            "484/484 - 5s - loss: 2.3178 - accuracy: 0.4990 - 5s/epoch - 9ms/step\n",
            "Epoch 46/100\n",
            "484/484 - 5s - loss: 2.2722 - accuracy: 0.5058 - 5s/epoch - 9ms/step\n",
            "Epoch 47/100\n",
            "484/484 - 4s - loss: 2.2265 - accuracy: 0.5163 - 4s/epoch - 9ms/step\n",
            "Epoch 48/100\n",
            "484/484 - 4s - loss: 2.1626 - accuracy: 0.5326 - 4s/epoch - 9ms/step\n",
            "Epoch 49/100\n",
            "484/484 - 5s - loss: 2.1173 - accuracy: 0.5415 - 5s/epoch - 9ms/step\n",
            "Epoch 50/100\n",
            "484/484 - 5s - loss: 2.0646 - accuracy: 0.5504 - 5s/epoch - 10ms/step\n",
            "Epoch 51/100\n",
            "484/484 - 5s - loss: 2.0120 - accuracy: 0.5650 - 5s/epoch - 9ms/step\n",
            "Epoch 52/100\n",
            "484/484 - 4s - loss: 1.9762 - accuracy: 0.5681 - 4s/epoch - 9ms/step\n",
            "Epoch 53/100\n",
            "484/484 - 4s - loss: 1.9245 - accuracy: 0.5814 - 4s/epoch - 9ms/step\n",
            "Epoch 54/100\n",
            "484/484 - 4s - loss: 1.8826 - accuracy: 0.5929 - 4s/epoch - 9ms/step\n",
            "Epoch 55/100\n",
            "484/484 - 4s - loss: 1.8320 - accuracy: 0.6035 - 4s/epoch - 9ms/step\n",
            "Epoch 56/100\n",
            "484/484 - 4s - loss: 1.7857 - accuracy: 0.6134 - 4s/epoch - 9ms/step\n",
            "Epoch 57/100\n",
            "484/484 - 5s - loss: 1.7452 - accuracy: 0.6233 - 5s/epoch - 9ms/step\n",
            "Epoch 58/100\n",
            "484/484 - 4s - loss: 1.7036 - accuracy: 0.6341 - 4s/epoch - 9ms/step\n",
            "Epoch 59/100\n",
            "484/484 - 5s - loss: 1.6556 - accuracy: 0.6442 - 5s/epoch - 9ms/step\n",
            "Epoch 60/100\n",
            "484/484 - 5s - loss: 1.6245 - accuracy: 0.6510 - 5s/epoch - 10ms/step\n",
            "Epoch 61/100\n",
            "484/484 - 5s - loss: 1.5914 - accuracy: 0.6600 - 5s/epoch - 9ms/step\n",
            "Epoch 62/100\n",
            "484/484 - 5s - loss: 1.5406 - accuracy: 0.6684 - 5s/epoch - 9ms/step\n",
            "Epoch 63/100\n",
            "484/484 - 5s - loss: 1.5082 - accuracy: 0.6773 - 5s/epoch - 10ms/step\n",
            "Epoch 64/100\n",
            "484/484 - 5s - loss: 1.4780 - accuracy: 0.6840 - 5s/epoch - 10ms/step\n",
            "Epoch 65/100\n",
            "484/484 - 5s - loss: 1.4437 - accuracy: 0.6910 - 5s/epoch - 10ms/step\n",
            "Epoch 66/100\n",
            "484/484 - 5s - loss: 1.4014 - accuracy: 0.7006 - 5s/epoch - 9ms/step\n",
            "Epoch 67/100\n",
            "484/484 - 5s - loss: 1.3712 - accuracy: 0.7066 - 5s/epoch - 9ms/step\n",
            "Epoch 68/100\n",
            "484/484 - 5s - loss: 1.3429 - accuracy: 0.7111 - 5s/epoch - 9ms/step\n",
            "Epoch 69/100\n",
            "484/484 - 5s - loss: 1.3040 - accuracy: 0.7221 - 5s/epoch - 10ms/step\n",
            "Epoch 70/100\n",
            "484/484 - 5s - loss: 1.2699 - accuracy: 0.7297 - 5s/epoch - 9ms/step\n",
            "Epoch 71/100\n",
            "484/484 - 5s - loss: 1.2394 - accuracy: 0.7350 - 5s/epoch - 9ms/step\n",
            "Epoch 72/100\n",
            "484/484 - 5s - loss: 1.2116 - accuracy: 0.7433 - 5s/epoch - 9ms/step\n",
            "Epoch 73/100\n",
            "484/484 - 5s - loss: 1.1934 - accuracy: 0.7453 - 5s/epoch - 9ms/step\n",
            "Epoch 74/100\n",
            "484/484 - 5s - loss: 1.1622 - accuracy: 0.7519 - 5s/epoch - 9ms/step\n",
            "Epoch 75/100\n",
            "484/484 - 5s - loss: 1.1403 - accuracy: 0.7586 - 5s/epoch - 10ms/step\n",
            "Epoch 76/100\n",
            "484/484 - 5s - loss: 1.1092 - accuracy: 0.7628 - 5s/epoch - 9ms/step\n",
            "Epoch 77/100\n",
            "484/484 - 5s - loss: 1.0925 - accuracy: 0.7653 - 5s/epoch - 10ms/step\n",
            "Epoch 78/100\n",
            "484/484 - 5s - loss: 1.0627 - accuracy: 0.7740 - 5s/epoch - 10ms/step\n",
            "Epoch 79/100\n",
            "484/484 - 5s - loss: 1.0540 - accuracy: 0.7765 - 5s/epoch - 10ms/step\n",
            "Epoch 80/100\n",
            "484/484 - 5s - loss: 1.0160 - accuracy: 0.7824 - 5s/epoch - 10ms/step\n",
            "Epoch 81/100\n",
            "484/484 - 5s - loss: 0.9942 - accuracy: 0.7878 - 5s/epoch - 9ms/step\n",
            "Epoch 82/100\n",
            "484/484 - 5s - loss: 0.9661 - accuracy: 0.7944 - 5s/epoch - 9ms/step\n",
            "Epoch 83/100\n",
            "484/484 - 5s - loss: 0.9499 - accuracy: 0.7963 - 5s/epoch - 10ms/step\n",
            "Epoch 84/100\n",
            "484/484 - 5s - loss: 0.9285 - accuracy: 0.8007 - 5s/epoch - 10ms/step\n",
            "Epoch 85/100\n",
            "484/484 - 5s - loss: 0.9180 - accuracy: 0.8013 - 5s/epoch - 9ms/step\n",
            "Epoch 86/100\n",
            "484/484 - 5s - loss: 0.8937 - accuracy: 0.8062 - 5s/epoch - 10ms/step\n",
            "Epoch 87/100\n",
            "484/484 - 5s - loss: 0.8797 - accuracy: 0.8117 - 5s/epoch - 9ms/step\n",
            "Epoch 88/100\n",
            "484/484 - 5s - loss: 0.8627 - accuracy: 0.8144 - 5s/epoch - 10ms/step\n",
            "Epoch 89/100\n",
            "484/484 - 5s - loss: 0.8509 - accuracy: 0.8166 - 5s/epoch - 10ms/step\n",
            "Epoch 90/100\n",
            "484/484 - 5s - loss: 0.8295 - accuracy: 0.8209 - 5s/epoch - 10ms/step\n",
            "Epoch 91/100\n",
            "484/484 - 5s - loss: 0.8178 - accuracy: 0.8210 - 5s/epoch - 10ms/step\n",
            "Epoch 92/100\n",
            "484/484 - 5s - loss: 0.7977 - accuracy: 0.8247 - 5s/epoch - 10ms/step\n",
            "Epoch 93/100\n",
            "484/484 - 5s - loss: 0.7863 - accuracy: 0.8245 - 5s/epoch - 10ms/step\n",
            "Epoch 94/100\n",
            "484/484 - 5s - loss: 0.7701 - accuracy: 0.8278 - 5s/epoch - 10ms/step\n",
            "Epoch 95/100\n",
            "484/484 - 5s - loss: 0.7828 - accuracy: 0.8255 - 5s/epoch - 10ms/step\n",
            "Epoch 96/100\n",
            "484/484 - 5s - loss: 0.7663 - accuracy: 0.8291 - 5s/epoch - 9ms/step\n",
            "Epoch 97/100\n",
            "484/484 - 5s - loss: 0.7448 - accuracy: 0.8298 - 5s/epoch - 10ms/step\n",
            "Epoch 98/100\n",
            "484/484 - 4s - loss: 0.7205 - accuracy: 0.8353 - 4s/epoch - 9ms/step\n",
            "Epoch 99/100\n",
            "484/484 - 5s - loss: 0.7064 - accuracy: 0.8363 - 5s/epoch - 10ms/step\n",
            "Epoch 100/100\n",
            "484/484 - 5s - loss: 0.7034 - accuracy: 0.8390 - 5s/epoch - 9ms/step\n"
          ]
        }
      ],
      "source": [
        "# Get the untrained model\n",
        "model = create_model(total_words, max_sequence_len)\n",
        "\n",
        "# Train the model\n",
        "history = model.fit(features, labels, epochs=100, verbose=2)"
      ]
    },
    {
      "cell_type": "markdown",
      "metadata": {
        "id": "gy72RPgly55q"
      },
      "source": [
        "**To pass this assignment, your model should achieve a training accuracy of at least 80%**. If your model didn't achieve this threshold, try training again with a different model architecture, consider increasing the number of unit in your `LSTM` layer."
      ]
    },
    {
      "cell_type": "code",
      "execution_count": 49,
      "metadata": {
        "colab": {
          "base_uri": "https://localhost:8080/",
          "height": 545
        },
        "id": "1fXTEO3GJ282",
        "outputId": "11e9de21-8097-4fda-c544-acda46b1668d"
      },
      "outputs": [
        {
          "data": {
            "image/png": "[encoded data removed]",
            "text/plain": [
              "<Figure size 432x288 with 1 Axes>"
            ]
          },
          "metadata": {
            "needs_background": "light"
          },
          "output_type": "display_data"
        },
        {
          "data": {
            "image/png": "[encoded data removed]",
            "text/plain": [
              "<Figure size 432x288 with 1 Axes>"
            ]
          },
          "metadata": {
            "needs_background": "light"
          },
          "output_type": "display_data"
        }
      ],
      "source": [
        "# Take a look at the training curves of your model\n",
        "\n",
        "acc = history.history['accuracy']\n",
        "loss = history.history['loss']\n",
        "\n",
        "epochs = range(len(acc))\n",
        "\n",
        "plt.plot(epochs, acc, 'b', label='Training accuracy')\n",
        "plt.title('Training accuracy')\n",
        "\n",
        "plt.figure()\n",
        "\n",
        "plt.plot(epochs, loss, 'b', label='Training Loss')\n",
        "plt.title('Training loss')\n",
        "plt.legend()\n",
        "\n",
        "plt.show()"
      ]
    },
    {
      "cell_type": "markdown",
      "metadata": {
        "id": "OjvED5A3qrn2"
      },
      "source": [
        "Before closing the assignment, be sure to also download the `history.pkl` file which contains the information of the training history of your model and will be used to compute your grade. You can download this file by running the cell below:"
      ]
    },
    {
      "cell_type": "code",
      "execution_count": 53,
      "metadata": {
        "colab": {
          "base_uri": "https://localhost:8080/",
          "height": 17
        },
        "id": "9QRG73l6qE-c",
        "outputId": "428f70f7-10c7-4387-9dee-055bf2f339f3"
      },
      "outputs": [],
      "source": [
        "\n",
        "def download_history():\n",
        "  import pickle\n",
        "  from google.colab import files\n",
        "\n",
        "  with open('history.pkl', 'wb') as f:\n",
        "    pickle.dump(history.history, f)\n",
        "\n",
        "  files.download('history.pkl')\n",
        "\n",
        "download_history()"
      ]
    },
    {
      "cell_type": "markdown",
      "metadata": {
        "id": "wdsMszk9zBs_"
      },
      "source": [
        "## See your model in action\n",
        "\n",
        "After all your work it is finally time to see your model generating text. \n",
        "\n",
        "Run the cell below to generate the next 100 words of a seed text.\n",
        "\n",
        "After submitting your assignment you are encouraged to try out training for different amounts of epochs and seeing how this affects the coherency of the generated text. Also try changing the seed text to see what you get!"
      ]
    },
    {
      "cell_type": "code",
      "execution_count": 54,
      "metadata": {
        "colab": {
          "base_uri": "https://localhost:8080/"
        },
        "id": "6Vc6PHgxa6Hm",
        "outputId": "c651fc93-bd9b-47bf-9a12-05b42d217081"
      },
      "outputs": [
        {
          "name": "stdout",
          "output_type": "stream",
          "text": [
            "Help me Obi Wan Kenobi, you're my only hope and rid my wailing chief all grown must say these curious life one yet still thy show wanting pain see thine eye is not to make thee thee thee dead evident and part thee done the eloquence night 'will ' well doth know their art should stand it on me wit more eyes bright eyes thee 'will ' is his fair had end did had ill days o'er words at life besides ill hell are view hour thee more say kind art kind 'will ' shade survey kind respect date date more praise was conscience kind 'will ' add to\n"
          ]
        }
      ],
      "source": [
        "seed_text = \"Help me Obi Wan Kenobi, you're my only hope\"\n",
        "next_words = 100\n",
        "  \n",
        "for _ in range(next_words):\n",
        "\t# Convert the text into sequences\n",
        "\ttoken_list = tokenizer.texts_to_sequences([seed_text])[0]\n",
        "\t# Pad the sequences\n",
        "\ttoken_list = pad_sequences([token_list], maxlen=max_sequence_len-1, padding='pre')\n",
        "\t# Get the probabilities of predicting a word\n",
        "\tpredicted = model.predict(token_list, verbose=0)\n",
        "\t# Choose the next word based on the maximum probability\n",
        "\tpredicted = np.argmax(predicted, axis=-1).item()\n",
        "\t# Get the actual word from the word index\n",
        "\toutput_word = tokenizer.index_word[predicted]\n",
        "\t# Append to the current text\n",
        "\tseed_text += \" \" + output_word\n",
        "\n",
        "print(seed_text)"
      ]
    },
    {
      "cell_type": "markdown",
      "metadata": {
        "id": "oQVDbdcYqSux"
      },
      "source": [
        "You will also need to submit this notebook for grading. To download it, click on the File tab in the upper left corner of the screen then click on Download -> Download .ipynb. You can name it anything you want as long as it is a valid .ipynb (jupyter notebook) file.\n",
        "\n",
        "**Congratulations on finishing this week's assignment!**\n",
        "\n",
        "You have successfully implemented a neural network capable of predicting the next word in a sequence of text!\n",
        "\n",
        "**We hope to see you in the next course of the specialization! Keep it up!**"
      ]
    }
  ],
  "metadata": {
    "accelerator": "GPU",
    "colab": {
      "name": "Copia de C3W4_Assignment.ipynb",
      "provenance": []
    },
    "jupytext": {
      "main_language": "python"
    },
    "kernelspec": {
      "display_name": "Python 3",
      "name": "python3"
    },
    "language_info": {
      "codemirror_mode": {
        "name": "ipython",
        "version": 3
      },
      "file_extension": ".py",
      "mimetype": "text/x-python",
      "name": "python",
      "nbconvert_exporter": "python",
      "pygments_lexer": "ipython3",
      "version": "3.8.13"
    }
  },
  "nbformat": 4,
  "nbformat_minor": 0
}
